{
 "cells": [
  {
   "cell_type": "code",
   "execution_count": 5,
   "id": "ed90914a",
   "metadata": {},
   "outputs": [],
   "source": [
    "import tabula\n",
    "import pandas as pd\n",
    "from IPython.core.display import display_html\n",
    "import re"
   ]
  },
  {
   "cell_type": "code",
   "execution_count": 6,
   "id": "3761af3b",
   "metadata": {},
   "outputs": [
    {
     "data": {
      "text/html": [
       "<div>\n",
       "<style scoped>\n",
       "    .dataframe tbody tr th:only-of-type {\n",
       "        vertical-align: middle;\n",
       "    }\n",
       "\n",
       "    .dataframe tbody tr th {\n",
       "        vertical-align: top;\n",
       "    }\n",
       "\n",
       "    .dataframe thead th {\n",
       "        text-align: right;\n",
       "    }\n",
       "</style>\n",
       "<table border=\"1\" class=\"dataframe\">\n",
       "  <thead>\n",
       "    <tr style=\"text-align: right;\">\n",
       "      <th></th>\n",
       "      <th>indice01</th>\n",
       "      <th>indice04</th>\n",
       "      <th>indice05</th>\n",
       "      <th>indice02</th>\n",
       "    </tr>\n",
       "  </thead>\n",
       "  <tbody>\n",
       "    <tr>\n",
       "      <th>0</th>\n",
       "      <td>PONTEIRA PONTA CRUZADA 8X80MM</td>\n",
       "      <td>17.3133</td>\n",
       "      <td>1558.2</td>\n",
       "      <td>90.000173</td>\n",
       "    </tr>\n",
       "    <tr>\n",
       "      <th>1</th>\n",
       "      <td>PONTEIRA PONTA CHATA 7X36MM</td>\n",
       "      <td>10.6933</td>\n",
       "      <td>962.4</td>\n",
       "      <td>90.000281</td>\n",
       "    </tr>\n",
       "  </tbody>\n",
       "</table>\n",
       "</div>"
      ],
      "text/plain": [
       "                        indice01  indice04  indice05   indice02\n",
       "0  PONTEIRA PONTA CRUZADA 8X80MM   17.3133    1558.2  90.000173\n",
       "1    PONTEIRA PONTA CHATA 7X36MM   10.6933     962.4  90.000281"
      ]
     },
     "metadata": {},
     "output_type": "display_data"
    }
   ],
   "source": [
    "#Leitura do pdf\n",
    "lista10_cotacao_02 = tabula.read_pdf(r\"C:\\Users\\oneen\\OneDrive\\Área de Trabalho\\FERRAMENTAS _ONE\\cdp19023051109003634960000000.pdf\", pages=\"10\")\n",
    "pagina10_cotacao_02 = lista10_cotacao_02[0]\n",
    "pagina10_cotacao_02.columns = ['indice01','indice02','indice03','indice04','indice05','indice06','indice07','indice08','indice09','indice10']\n",
    "\n",
    "#Descrição material - Filtragem de descirção somente da tabela 01\n",
    "descricao_material10 = pagina10_cotacao_02[pagina10_cotacao_02['indice01'].str.contains('Descrição\\r')]\n",
    "descricao_material10 = descricao_material10['indice01'].str.replace('Descrição\\r','')\n",
    "descricao_material10 = descricao_material10.reset_index(drop=True)\n",
    "\n",
    "\n",
    "#Preço_Unitário - FIltragem de preço unitário da tabela1\n",
    "preco_unitario10 = pagina10_cotacao_02[pagina10_cotacao_02['indice04'].str.len() > 0]\n",
    "preco_unitario10 = pagina10_cotacao_02['indice04'].str.contains('Preço Unitário sem I\\r')\n",
    "preco_unitario10 = pagina10_cotacao_02['indice04'].str.replace('Preço Unitário sem I\\r','')\n",
    "preco_unitario10 = preco_unitario10[preco_unitario10.str.len() > 0]\n",
    "preco_unitario10 = preco_unitario10[~preco_unitario10.str.contains('Emb.\\r')]\n",
    "preco_unitario10 = preco_unitario10.reset_index(drop=True)\n",
    "preco_unitario10 = preco_unitario10.apply(lambda x: str(x).replace(\",\",\".\"))\n",
    "preco_unitario10 = preco_unitario10.astype('float64')\n",
    "\n",
    "#Preço total - fitragem de preço total\n",
    "\n",
    "preco_total10 = pagina10_cotacao_02[pagina10_cotacao_02['indice05'].str.len() > 0]\n",
    "preco_total10 = pagina10_cotacao_02['indice05'].str.contains('I Preço Total\\r')\n",
    "preco_total10 = pagina10_cotacao_02['indice05'].str.replace('I Preço Total\\r','')\n",
    "preco_total10 = preco_total10[preco_total10.str.len() > 0]\n",
    "preco_total10 = preco_total10[~preco_total10.str.contains('Qtde.\\r')]\n",
    "preco_total10 = preco_total10.reset_index(drop=True)\n",
    "preco_total10 = preco_total10.apply(lambda x: str(x).replace(\".\",\"\"))\n",
    "preco_total10 = preco_total10.apply(lambda x: str(x).replace(\",\",\".\"))\n",
    "preco_total10 = preco_total10.astype('float64')\n",
    "\n",
    "#mesclando os dados atrávés de cada indice formando uma tabela\n",
    "\n",
    "df_mesclar10= descricao_material10.to_frame().merge(preco_unitario10,left_index=True,right_index=True)\n",
    "df_mesclar10= descricao_material10.to_frame().merge(preco_unitario10,left_index=True,right_index=True)\n",
    "Tabela_10= df_mesclar10.merge(preco_total10,left_index=True,right_index=True)\n",
    "Tabela_10['indice02'] = Tabela_10['indice05'] / Tabela_10['indice04']\n",
    "\n",
    "\n",
    "#display\n",
    "#display(descricao_material10)\n",
    "#display(quantidade_1)\n",
    "#display(preco_unitario10)\n",
    "#display(preco_total10)\n",
    "display(Tabela_10)\n",
    "#display(cotacao_Tabela_10)"
   ]
  },
  {
   "cell_type": "code",
   "execution_count": null,
   "id": "5f6f947b",
   "metadata": {},
   "outputs": [],
   "source": []
  }
 ],
 "metadata": {
  "kernelspec": {
   "display_name": "Python 3 (ipykernel)",
   "language": "python",
   "name": "python3"
  },
  "language_info": {
   "codemirror_mode": {
    "name": "ipython",
    "version": 3
   },
   "file_extension": ".py",
   "mimetype": "text/x-python",
   "name": "python",
   "nbconvert_exporter": "python",
   "pygments_lexer": "ipython3",
   "version": "3.11.0"
  }
 },
 "nbformat": 4,
 "nbformat_minor": 5
}
