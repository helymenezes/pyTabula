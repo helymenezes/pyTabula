{
 "cells": [
  {
   "cell_type": "code",
   "execution_count": 8,
   "id": "ed90914a",
   "metadata": {},
   "outputs": [],
   "source": [
    "import tabula\n",
    "import pandas as pd\n",
    "from IPython.core.display import display_html\n",
    "import re"
   ]
  },
  {
   "cell_type": "code",
   "execution_count": 32,
   "id": "3761af3b",
   "metadata": {},
   "outputs": [
    {
     "data": {
      "text/plain": [
       "0    CH. FENDA CRUZ. ISOLADA 6X200 1/4X8\n",
       "1     CH. DE FENDA P. CHATA 3X125 -1/8X5\n",
       "2    CH. DE FENDA P. CHATA 5X150 -3/16X6\n",
       "3     CH. DE FENDA P. CHATA 6X200 -1/4X8\n",
       "4     CH. DE FENDA P. CRUZ. 3X125 -1/8X5\n",
       "5    CH. DE FENDA P. CRUZ. 5X150 -3/16X6\n",
       "6     CH. DE FENDA P. CRUZ. 6X200 -1/4X8\n",
       "7         NIVEL MAGNETICO DE ALUMINIO 12\n",
       "Name: indice01, dtype: object"
      ]
     },
     "metadata": {},
     "output_type": "display_data"
    },
    {
     "data": {
      "text/plain": [
       "0    13.3500\n",
       "1     3.9758\n",
       "2     5.4258\n",
       "3     7.4200\n",
       "4     4.8658\n",
       "5     5.7958\n",
       "6     9.3458\n",
       "7    37.3183\n",
       "Name: indice04, dtype: float64"
      ]
     },
     "metadata": {},
     "output_type": "display_data"
    },
    {
     "data": {
      "text/plain": [
       "0     400.50\n",
       "1     238.55\n",
       "2     325.55\n",
       "3     445.20\n",
       "4     291.95\n",
       "5     347.75\n",
       "6     560.75\n",
       "7    2239.10\n",
       "Name: indice05, dtype: float64"
      ]
     },
     "metadata": {},
     "output_type": "display_data"
    },
    {
     "data": {
      "text/html": [
       "<div>\n",
       "<style scoped>\n",
       "    .dataframe tbody tr th:only-of-type {\n",
       "        vertical-align: middle;\n",
       "    }\n",
       "\n",
       "    .dataframe tbody tr th {\n",
       "        vertical-align: top;\n",
       "    }\n",
       "\n",
       "    .dataframe thead th {\n",
       "        text-align: right;\n",
       "    }\n",
       "</style>\n",
       "<table border=\"1\" class=\"dataframe\">\n",
       "  <thead>\n",
       "    <tr style=\"text-align: right;\">\n",
       "      <th></th>\n",
       "      <th>indice01</th>\n",
       "      <th>indice04</th>\n",
       "      <th>indice05</th>\n",
       "      <th>indice02</th>\n",
       "    </tr>\n",
       "  </thead>\n",
       "  <tbody>\n",
       "    <tr>\n",
       "      <th>0</th>\n",
       "      <td>CH. FENDA CRUZ. ISOLADA 6X200 1/4X8</td>\n",
       "      <td>13.3500</td>\n",
       "      <td>400.50</td>\n",
       "      <td>30.000000</td>\n",
       "    </tr>\n",
       "    <tr>\n",
       "      <th>1</th>\n",
       "      <td>CH. DE FENDA P. CHATA 3X125 -1/8X5</td>\n",
       "      <td>3.9758</td>\n",
       "      <td>238.55</td>\n",
       "      <td>60.000503</td>\n",
       "    </tr>\n",
       "    <tr>\n",
       "      <th>2</th>\n",
       "      <td>CH. DE FENDA P. CHATA 5X150 -3/16X6</td>\n",
       "      <td>5.4258</td>\n",
       "      <td>325.55</td>\n",
       "      <td>60.000369</td>\n",
       "    </tr>\n",
       "    <tr>\n",
       "      <th>3</th>\n",
       "      <td>CH. DE FENDA P. CHATA 6X200 -1/4X8</td>\n",
       "      <td>7.4200</td>\n",
       "      <td>445.20</td>\n",
       "      <td>60.000000</td>\n",
       "    </tr>\n",
       "    <tr>\n",
       "      <th>4</th>\n",
       "      <td>CH. DE FENDA P. CRUZ. 3X125 -1/8X5</td>\n",
       "      <td>4.8658</td>\n",
       "      <td>291.95</td>\n",
       "      <td>60.000411</td>\n",
       "    </tr>\n",
       "    <tr>\n",
       "      <th>5</th>\n",
       "      <td>CH. DE FENDA P. CRUZ. 5X150 -3/16X6</td>\n",
       "      <td>5.7958</td>\n",
       "      <td>347.75</td>\n",
       "      <td>60.000345</td>\n",
       "    </tr>\n",
       "    <tr>\n",
       "      <th>6</th>\n",
       "      <td>CH. DE FENDA P. CRUZ. 6X200 -1/4X8</td>\n",
       "      <td>9.3458</td>\n",
       "      <td>560.75</td>\n",
       "      <td>60.000214</td>\n",
       "    </tr>\n",
       "    <tr>\n",
       "      <th>7</th>\n",
       "      <td>NIVEL MAGNETICO DE ALUMINIO 12</td>\n",
       "      <td>37.3183</td>\n",
       "      <td>2239.10</td>\n",
       "      <td>60.000054</td>\n",
       "    </tr>\n",
       "  </tbody>\n",
       "</table>\n",
       "</div>"
      ],
      "text/plain": [
       "                              indice01  indice04  indice05   indice02\n",
       "0  CH. FENDA CRUZ. ISOLADA 6X200 1/4X8   13.3500    400.50  30.000000\n",
       "1   CH. DE FENDA P. CHATA 3X125 -1/8X5    3.9758    238.55  60.000503\n",
       "2  CH. DE FENDA P. CHATA 5X150 -3/16X6    5.4258    325.55  60.000369\n",
       "3   CH. DE FENDA P. CHATA 6X200 -1/4X8    7.4200    445.20  60.000000\n",
       "4   CH. DE FENDA P. CRUZ. 3X125 -1/8X5    4.8658    291.95  60.000411\n",
       "5  CH. DE FENDA P. CRUZ. 5X150 -3/16X6    5.7958    347.75  60.000345\n",
       "6   CH. DE FENDA P. CRUZ. 6X200 -1/4X8    9.3458    560.75  60.000214\n",
       "7       NIVEL MAGNETICO DE ALUMINIO 12   37.3183   2239.10  60.000054"
      ]
     },
     "metadata": {},
     "output_type": "display_data"
    }
   ],
   "source": [
    "# #Leitura do pdf\n",
    "lista_cotacao_02 = tabula.read_pdf(r\"C:\\Users\\oneen\\OneDrive\\Área de Trabalho\\FERRAMENTAS _ONE\\cdp19023051109003634960000000.pdf\", pages=\"2\")\n",
    "pagina2_cotacao_02 = lista_cotacao_02[0]\n",
    "pagina2_cotacao_02.columns = ['indice01','indice02','indice03','indice04','indice05','indice06','indice07','indice08','indice09','indice10']\n",
    "\n",
    "#Descrição material - Filtragem de descirção somente da tabela 01\n",
    "descricao_material2 = pagina2_cotacao_02[pagina2_cotacao_02['indice01'].str.contains('Descrição\\r')]\n",
    "descricao_material2 = descricao_material2['indice01'].str.replace('Descrição\\r','')\n",
    "descricao_material2 = descricao_material2.reset_index(drop=True)\n",
    "\n",
    "#Preço_Unitário - FIltragem de preço unitário da tabela1\n",
    "preco_unitario2 = pagina2_cotacao_02[pagina2_cotacao_02['indice04'].str.len() > 0]\n",
    "preco_unitario2 = pagina2_cotacao_02['indice04'].str.contains('Preço Unitário sem I\\r')\n",
    "preco_unitario2 = pagina2_cotacao_02['indice04'].str.replace('Preço Unitário sem I\\r','')\n",
    "preco_unitario2 = preco_unitario2[preco_unitario2.str.len() > 0]\n",
    "preco_unitario2 = preco_unitario2[~preco_unitario2.str.contains('Emb.\\r')]\n",
    "preco_unitario2 = preco_unitario2.reset_index(drop=True)\n",
    "preco_unitario2 = preco_unitario2.apply(lambda x: str(x).replace(\",\",\".\"))\n",
    "preco_unitario2 = preco_unitario2.astype('float64')\n",
    "\n",
    "\n",
    "#Preço total - fitragem de preço total\n",
    "\n",
    "preco_total2 = pagina2_cotacao_02[pagina2_cotacao_02['indice05'].str.len() > 0]\n",
    "preco_total2 = pagina2_cotacao_02['indice05'].str.contains('I Preço Total\\r')\n",
    "preco_total2 = pagina2_cotacao_02['indice05'].str.replace('I Preço Total\\r','')\n",
    "preco_total2 = preco_total2[preco_total2.str.len() > 0]\n",
    "preco_total2 = preco_total2[~preco_total2.str.contains('Qtde.\\r')]\n",
    "preco_total2 = preco_total2.reset_index(drop=True)\n",
    "preco_total2 = preco_total2.apply(lambda x: str(x).replace(\".\",\"\"))\n",
    "preco_total2 = preco_total2.apply(lambda x: str(x).replace(\",\",\".\"))\n",
    "preco_total2 = preco_total2.astype('float64')\n",
    "\n",
    "#mesclando os dados atrávés de cada indice formando uma tabela\n",
    "\n",
    "df_mesclar02= descricao_material2.to_frame().merge(preco_unitario2,left_index=True,right_index=True)\n",
    "df_mesclar02= descricao_material2.to_frame().merge(preco_unitario2,left_index=True,right_index=True)\n",
    "Tabela_02= df_mesclar02.merge(preco_total2,left_index=True,right_index=True)\n",
    "Tabela_02['indice02'] = Tabela_02['indice05'] / Tabela_02['indice04']\n",
    "\n",
    "\n",
    "#display\n",
    "display(descricao_material2)\n",
    "display(preco_unitario2)\n",
    "display(preco_total2)\n",
    "display(Tabela_02)\n",
    "\n",
    "\n"
   ]
  },
  {
   "cell_type": "code",
   "execution_count": null,
   "id": "5f6f947b",
   "metadata": {},
   "outputs": [],
   "source": []
  }
 ],
 "metadata": {
  "kernelspec": {
   "display_name": "Python 3 (ipykernel)",
   "language": "python",
   "name": "python3"
  },
  "language_info": {
   "codemirror_mode": {
    "name": "ipython",
    "version": 3
   },
   "file_extension": ".py",
   "mimetype": "text/x-python",
   "name": "python",
   "nbconvert_exporter": "python",
   "pygments_lexer": "ipython3",
   "version": "3.9.12"
  }
 },
 "nbformat": 4,
 "nbformat_minor": 5
}
